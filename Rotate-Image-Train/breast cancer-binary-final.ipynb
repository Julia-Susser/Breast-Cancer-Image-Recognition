{
 "cells": [
  {
   "cell_type": "code",
   "execution_count": 1,
   "metadata": {},
   "outputs": [
    {
     "data": {
      "text/plain": [
       "array([1, 2])"
      ]
     },
     "execution_count": 1,
     "metadata": {},
     "output_type": "execute_result"
    }
   ],
   "source": [
    "import os\n",
    "import pandas as pd\n",
    "import matplotlib.pyplot as plt\n",
    "import cv2\n",
    "import numpy as np\n",
    "np.array([[1,2],[1,3]])[0]"
   ]
  },
  {
   "cell_type": "code",
   "execution_count": 2,
   "metadata": {},
   "outputs": [],
   "source": [
    "df = pd.read_csv(\"info.txt\", delimiter=\" \")\n",
    "df[\"filename\"] = \"files/\" + df.REFNUM +\".png\"\n"
   ]
  },
  {
   "cell_type": "code",
   "execution_count": 3,
   "metadata": {},
   "outputs": [],
   "source": [
    "X = []\n",
    "y = []\n",
    "images = []\n",
    "for x in df[~df[\"SEVERITY\"].isnull()].iterrows():\n",
    "    img_array = cv2.imread(x[1][\"filename\"],cv2.IMREAD_GRAYSCALE)\n",
    "    new_img_array = cv2.resize(img_array, dsize=(80, 80))\n",
    "    which = lambda t: 1 if t==\"B\" else 0\n",
    "    #images[1] = images.get(1,[]) + [img]\n",
    "    images.append([new_img_array,which(x[1][\"SEVERITY\"])])"
   ]
  },
  {
   "cell_type": "code",
   "execution_count": 4,
   "metadata": {},
   "outputs": [],
   "source": [
    "for angle in range(360):\n",
    "    for x in images:\n",
    "        M = cv2.getRotationMatrix2D((80 / 2, 80 / 2), angle, 1)    #Rotate 0 degree\n",
    "        img_rotated = cv2.warpAffine(x[0], M, (80, 80))\n",
    "        #plt.imshow(img_rotated)\n",
    "        X.append(img_rotated)\n",
    "        which = lambda t: 1 if t==\"B\" else 0\n",
    "        y.append(x[1])"
   ]
  },
  {
   "cell_type": "code",
   "execution_count": 5,
   "metadata": {},
   "outputs": [],
   "source": [
    "import numpy as np\n",
    "X = np.array(X).reshape(-1, 80,80,1)\n",
    "y = np.array(y)\n"
   ]
  },
  {
   "cell_type": "code",
   "execution_count": 22,
   "metadata": {},
   "outputs": [
    {
     "name": "stdout",
     "output_type": "stream",
     "text": [
      "Found 21 validated image filenames belonging to 2 classes.\n",
      "Found 102 validated image filenames belonging to 2 classes.\n"
     ]
    }
   ],
   "source": [
    "from tensorflow.keras.preprocessing.image import ImageDataGenerator\n",
    "df = df.dropna(subset=[\"SEVERITY\"])\n",
    "train_df = df.loc[:len(df)*.6-1]\n",
    "validation_df = df.loc[len(df)*.6:]\n",
    "# All images will be rescaled by 1./255\n",
    "train_datagen = ImageDataGenerator(rescale=1/255)\n",
    "validation_datagen = ImageDataGenerator(rescale=1/255)\n",
    "\n",
    "# Flow training images in batches of 128 using train_datagen generator\n",
    "train_generator = train_datagen.flow_from_dataframe(\n",
    "        dataframe=train_df,\n",
    "        x_col = 'filename',\n",
    "        y_col = 'SEVERITY',\n",
    "        target_size=(300, 300),  # All images will be resized to 300x300\n",
    "        batch_size=5,\n",
    "        # Since we use binary_crossentropy loss, we need binary labels\n",
    "        class_mode='binary')\n",
    "\n",
    "validation_generator = validation_datagen.flow_from_dataframe(\n",
    "        dataframe=validation_df,\n",
    "        x_col = 'filename',\n",
    "        y_col = 'SEVERITY',\n",
    "        target_size=(300, 300),  # All images will be resized to 300x300\n",
    "        batch_size=5,\n",
    "        # Since we use binary_crossentropy loss, we need binary labels\n",
    "        class_mode='binary')"
   ]
  },
  {
   "cell_type": "code",
   "execution_count": 12,
   "metadata": {},
   "outputs": [
    {
     "name": "stdout",
     "output_type": "stream",
     "text": [
      "Model: \"sequential_1\"\n",
      "_________________________________________________________________\n",
      "Layer (type)                 Output Shape              Param #   \n",
      "=================================================================\n",
      "conv2d (Conv2D)              (None, 78, 78, 64)        640       \n",
      "_________________________________________________________________\n",
      "activation (Activation)      (None, 78, 78, 64)        0         \n",
      "_________________________________________________________________\n",
      "max_pooling2d (MaxPooling2D) (None, 39, 39, 64)        0         \n",
      "_________________________________________________________________\n",
      "conv2d_1 (Conv2D)            (None, 37, 37, 64)        36928     \n",
      "_________________________________________________________________\n",
      "activation_1 (Activation)    (None, 37, 37, 64)        0         \n",
      "_________________________________________________________________\n",
      "max_pooling2d_1 (MaxPooling2 (None, 18, 18, 64)        0         \n",
      "_________________________________________________________________\n",
      "dropout (Dropout)            (None, 18, 18, 64)        0         \n",
      "_________________________________________________________________\n",
      "flatten (Flatten)            (None, 20736)             0         \n",
      "_________________________________________________________________\n",
      "dense (Dense)                (None, 1)                 20737     \n",
      "_________________________________________________________________\n",
      "activation_2 (Activation)    (None, 1)                 0         \n",
      "=================================================================\n",
      "Total params: 58,305\n",
      "Trainable params: 58,305\n",
      "Non-trainable params: 0\n",
      "_________________________________________________________________\n"
     ]
    }
   ],
   "source": [
    "import tensorflow as tf\n",
    "\"\"\"num_classes = 2\n",
    "model = tf.keras.Sequential([\n",
    "    tf.keras.layers.Conv2D(32, (5,5), input_shape = (80 , 80 , 1), activation = 'relu'),\n",
    "    tf.keras.layers.MaxPool2D(3,3),\n",
    "    tf.keras.layers.Conv2D(64, (5,5) , activation = 'relu'),\n",
    "    tf.keras.layers.MaxPool2D((3,3)),\n",
    "    tf.keras.layers.Conv2D(128 , (5,5) , activation = 'relu'),\n",
    "    tf.keras.layers.MaxPool2D(3,3),\n",
    "    tf.keras.layers.Flatten(),\n",
    "    tf.keras.layers.Dropout(0.5, seed = 5),\n",
    "    tf.keras.layers.Dense(128 , activation = 'relu'),\n",
    "    tf.keras.layers.Dense(num_classes , activation = 'softmax')])\"\"\"\n",
    "\n",
    "from tensorflow.keras.models import Sequential\n",
    "from keras.layers import Dense, Dropout, Activation, Conv2D, MaxPool2D, Flatten\n",
    "\n",
    "\n",
    "model = Sequential()\n",
    "\n",
    "#     model.add(Conv2D(32, (3, 3), input_shape=(rows, cols, 1)))\n",
    "#     model.add(Activation('relu'))\n",
    "#     model.add(Conv2D(32, (3, 3)))\n",
    "#     model.add(Activation('relu'))\n",
    "#     model.add(Conv2D(64, (3, 3), padding='valid', strides=(1, 1)))\n",
    "#     model.add(Activation('relu'))\n",
    "model.add(Conv2D(64, (3, 3), padding='valid', strides=(1, 1),input_shape=(80,80,1)))\n",
    "model.add(Activation('relu'))\n",
    "model.add(MaxPool2D(pool_size=(2, 2)))\n",
    "\n",
    "model.add(Conv2D(64, (3, 3), padding='valid', strides=(1, 1)))\n",
    "model.add(Activation('relu'))\n",
    "model.add(MaxPool2D(pool_size=(2, 2)))\n",
    "\n",
    "model.add(Dropout(0.25))\n",
    "model.add(Flatten())\n",
    "model.add(Dense(1))\n",
    "model.add(Activation('sigmoid'))\n",
    "\n",
    "model.summary()"
   ]
  },
  {
   "cell_type": "code",
   "execution_count": 13,
   "metadata": {},
   "outputs": [
    {
     "name": "stdout",
     "output_type": "stream",
     "text": [
      "Model: \"sequential_1\"\n",
      "_________________________________________________________________\n",
      "Layer (type)                 Output Shape              Param #   \n",
      "=================================================================\n",
      "conv2d (Conv2D)              (None, 78, 78, 64)        640       \n",
      "_________________________________________________________________\n",
      "activation (Activation)      (None, 78, 78, 64)        0         \n",
      "_________________________________________________________________\n",
      "max_pooling2d (MaxPooling2D) (None, 39, 39, 64)        0         \n",
      "_________________________________________________________________\n",
      "conv2d_1 (Conv2D)            (None, 37, 37, 64)        36928     \n",
      "_________________________________________________________________\n",
      "activation_1 (Activation)    (None, 37, 37, 64)        0         \n",
      "_________________________________________________________________\n",
      "max_pooling2d_1 (MaxPooling2 (None, 18, 18, 64)        0         \n",
      "_________________________________________________________________\n",
      "dropout (Dropout)            (None, 18, 18, 64)        0         \n",
      "_________________________________________________________________\n",
      "flatten (Flatten)            (None, 20736)             0         \n",
      "_________________________________________________________________\n",
      "dense (Dense)                (None, 1)                 20737     \n",
      "_________________________________________________________________\n",
      "activation_2 (Activation)    (None, 1)                 0         \n",
      "=================================================================\n",
      "Total params: 58,305\n",
      "Trainable params: 58,305\n",
      "Non-trainable params: 0\n",
      "_________________________________________________________________\n"
     ]
    }
   ],
   "source": [
    "model.compile(loss = 'binary_crossentropy' , optimizer = tf.keras.optimizers.Adam(lr = 0.001) , metrics = 'accuracy')\n",
    "\n",
    "model.summary()"
   ]
  },
  {
   "cell_type": "code",
   "execution_count": 14,
   "metadata": {},
   "outputs": [],
   "source": [
    "class myCallback(tf.keras.callbacks.Callback):\n",
    "  def on_epoch_end(self, epoch, logs={}):\n",
    "    if(logs.get('accuracy')>0.85):\n",
    "      print(\"\\nReached 60% accuracy so cancelling training!\")\n",
    "      self.model.stop_training = True\n",
    "\n",
    "\n",
    "callbacks = myCallback()"
   ]
  },
  {
   "cell_type": "code",
   "execution_count": 19,
   "metadata": {},
   "outputs": [],
   "source": [
    "from sklearn.model_selection import train_test_split\n",
    "x_train, x_test, y_train, y_test = train_test_split(X, y, test_size=0.20, random_state=42)"
   ]
  },
  {
   "cell_type": "code",
   "execution_count": 20,
   "metadata": {},
   "outputs": [
    {
     "name": "stdout",
     "output_type": "stream",
     "text": [
      "Epoch 1/10\n",
      "886/886 [==============================] - 184s 206ms/step - loss: 0.3527 - accuracy: 0.8567 - val_loss: 0.2205 - val_accuracy: 0.9078\n",
      "Epoch 2/10\n",
      "886/886 [==============================] - 207s 234ms/step - loss: 0.2456 - accuracy: 0.8975 - val_loss: 0.1969 - val_accuracy: 0.9162\n",
      "Epoch 3/10\n",
      "886/886 [==============================] - 224s 253ms/step - loss: 0.2191 - accuracy: 0.9052 - val_loss: 0.1614 - val_accuracy: 0.9349\n",
      "Epoch 4/10\n",
      "886/886 [==============================] - 201s 226ms/step - loss: 0.1963 - accuracy: 0.9202 - val_loss: 0.1468 - val_accuracy: 0.9421\n",
      "Epoch 5/10\n",
      "886/886 [==============================] - 205s 232ms/step - loss: 0.1903 - accuracy: 0.9229 - val_loss: 0.1415 - val_accuracy: 0.9400\n",
      "Epoch 6/10\n",
      "886/886 [==============================] - 6073s 7s/step - loss: 0.1724 - accuracy: 0.9306 - val_loss: 0.1326 - val_accuracy: 0.9459\n",
      "Epoch 7/10\n",
      "886/886 [==============================] - 252s 285ms/step - loss: 0.1582 - accuracy: 0.9367 - val_loss: 0.1132 - val_accuracy: 0.9550\n",
      "Epoch 8/10\n",
      "886/886 [==============================] - 264s 298ms/step - loss: 0.1482 - accuracy: 0.9426 - val_loss: 0.1174 - val_accuracy: 0.9584\n",
      "Epoch 9/10\n",
      "886/886 [==============================] - 251s 284ms/step - loss: 0.1467 - accuracy: 0.9437 - val_loss: 0.1122 - val_accuracy: 0.9574\n",
      "Epoch 10/10\n",
      "886/886 [==============================] - 230s 259ms/step - loss: 0.1355 - accuracy: 0.9467 - val_loss: 0.1147 - val_accuracy: 0.9592\n"
     ]
    },
    {
     "data": {
      "text/plain": [
       "<tensorflow.python.keras.callbacks.History at 0x7f9d4bed01c0>"
      ]
     },
     "execution_count": 20,
     "metadata": {},
     "output_type": "execute_result"
    }
   ],
   "source": [
    "model.fit(x_train, y_train, epochs=10, batch_size=32, validation_split=0.2)"
   ]
  },
  {
   "cell_type": "code",
   "execution_count": 21,
   "metadata": {},
   "outputs": [
    {
     "name": "stderr",
     "output_type": "stream",
     "text": [
      "/Library/Frameworks/Python.framework/Versions/3.8/lib/python3.8/site-packages/tensorflow/python/keras/engine/training.py:2289: UserWarning: `Model.state_updates` will be removed in a future version. This property should not be used in TensorFlow 2.0, as `updates` are applied automatically.\n",
      "  warnings.warn('`Model.state_updates` will be removed in a future version. '\n",
      "/Library/Frameworks/Python.framework/Versions/3.8/lib/python3.8/site-packages/tensorflow/python/keras/engine/base_layer.py:1376: UserWarning: `layer.updates` will be removed in a future version. This property should not be used in TensorFlow 2.0, as `updates` are applied automatically.\n",
      "  warnings.warn('`layer.updates` will be removed in a future version. '\n"
     ]
    },
    {
     "name": "stdout",
     "output_type": "stream",
     "text": [
      "INFO:tensorflow:Assets written to: breast-cancer/assets\n"
     ]
    }
   ],
   "source": [
    "model.save(\"breast-cancer\")"
   ]
  },
  {
   "cell_type": "code",
   "execution_count": 28,
   "metadata": {},
   "outputs": [
    {
     "name": "stdout",
     "output_type": "stream",
     "text": [
      "{0: 'B', 1: 'M'}\n"
     ]
    }
   ],
   "source": [
    "from tensorflow.keras.preprocessing import image\n",
    "import numpy as np\n",
    "labels = (train_generator.class_indices)\n",
    "labels = dict((v , k) for k , v in labels.items())\n",
    "print(labels)\n",
    "def prediction(test_path):\n",
    "    img = image.load_img(test_path , target_size = (300 , 300))\n",
    "    img = image.img_to_array(img, dtype=np.uint8)\n",
    "    img = np.array(img)/300.0\n",
    "        \n",
    "    plt.title('Image')\n",
    "    plt.axis('off')\n",
    "    plt.imshow(img.squeeze())\n",
    "        \n",
    "    predict = model.predict(img[np.newaxis , ...])\n",
    "    predicted_class = labels[np.argmax(predict[0] , axis = -1)]\n",
    "        \n",
    "    print('Prediction Value: ' , np.max(predict[0] , axis = -1))\n",
    "    print(\"Classified:\",predicted_class)"
   ]
  },
  {
   "cell_type": "code",
   "execution_count": 31,
   "metadata": {},
   "outputs": [
    {
     "name": "stdout",
     "output_type": "stream",
     "text": [
      "Prediction Value:  0.50030315\n",
      "Classified: M\n"
     ]
    },
    {
     "data": {
      "image/png": "[encoded data removed]",
      "text/plain": [
       "<Figure size 432x288 with 1 Axes>"
      ]
     },
     "metadata": {
      "needs_background": "light"
     },
     "output_type": "display_data"
    }
   ],
   "source": [
    "prediction(validation_df.iloc[7].filename)"
   ]
  },
  {
   "cell_type": "code",
   "execution_count": 32,
   "metadata": {},
   "outputs": [
    {
     "data": {
      "text/plain": [
       "REFNUM                  mdb095\n",
       "BG                           F\n",
       "CLASS                     ASYM\n",
       "SEVERITY                     M\n",
       "X                          466\n",
       "Y                          517\n",
       "RADIUS                      29\n",
       "Unnamed: 7                 NaN\n",
       "filename      files/mdb095.png\n",
       "Name: 95, dtype: object"
      ]
     },
     "execution_count": 32,
     "metadata": {},
     "output_type": "execute_result"
    }
   ],
   "source": [
    "validation_df.iloc[7]"
   ]
  },
  {
   "cell_type": "code",
   "execution_count": null,
   "metadata": {},
   "outputs": [],
   "source": []
  }
 ],
 "metadata": {
  "kernelspec": {
   "display_name": "Python 3",
   "language": "python",
   "name": "python3"
  },
  "language_info": {
   "codemirror_mode": {
    "name": "ipython",
    "version": 3
   },
   "file_extension": ".py",
   "mimetype": "text/x-python",
   "name": "python",
   "nbconvert_exporter": "python",
   "pygments_lexer": "ipython3",
   "version": "3.8.4"
  }
 },
 "nbformat": 4,
 "nbformat_minor": 4
}
